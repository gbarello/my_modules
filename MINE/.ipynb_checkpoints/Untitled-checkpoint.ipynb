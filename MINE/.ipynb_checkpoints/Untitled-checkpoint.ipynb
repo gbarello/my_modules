{
 "cells": [
  {
   "cell_type": "code",
   "execution_count": 1,
   "metadata": {},
   "outputs": [],
   "source": [
    "import MINE.MINE_net as MINE\n",
    "import tensorflow as tf\n",
    "import numpy as np\n",
    "from matplotlib import pyplot as plt\n",
    "\n",
    "from IPython.display import display, clear_output"
   ]
  },
  {
   "cell_type": "markdown",
   "metadata": {},
   "source": [
    "I want to make a network and train it to convergence for a range of data samples and regularizations."
   ]
  },
  {
   "cell_type": "code",
   "execution_count": 2,
   "metadata": {},
   "outputs": [],
   "source": [
    "def build_stuff(nshape,gradreg,nn = 5,timescale=10,unbias_grad = False,reuse = False,tag = \"MINE\"):\n",
    "    \n",
    "    dat = tf.placeholder(tf.float32,shape = [nshape,nn])\n",
    "    n1 = tf.placeholder(tf.float32,shape = [nshape,nn])\n",
    "    n2 = tf.placeholder(tf.float32,shape = [nshape,nn])\n",
    "\n",
    "    dat1 = dat + n1\n",
    "    dat2 = dat + n2\n",
    "    \n",
    "    mine = MINE.get_MINE(dat1,dat2,grad_timescale = timescale,unbias_grad = unbias_grad,reuse = reuse,tag = tag)\n",
    "\n",
    "    mi,inp = MINE.get_MINE_grad_vars(dat1,dat2,reuse = True)\n",
    "    grads = tf.gradients(mi,inp)\n",
    "    minegradreg = tf.reduce_sum([tf.reduce_mean(g**2,axis = 0) for g in grads])\n",
    "\n",
    "    loss = -mine + gradreg * minegradreg\n",
    "    \n",
    "    return loss, mine,dat,n1,n2\n",
    "    \n",
    "    "
   ]
  },
  {
   "cell_type": "code",
   "execution_count": 3,
   "metadata": {},
   "outputs": [
    {
     "name": "stdout",
     "output_type": "stream",
     "text": [
      "<tf.Variable 'MINE2unbias_MINE_grad_10:0' shape=() dtype=float32_ref> <tf.Variable 'MINE2unbias_MINE_grad_tick_10:0' shape=() dtype=bool_ref>\n"
     ]
    }
   ],
   "source": [
    "nsam = 100\n",
    "ndim = 5\n",
    "ntot = 100\n",
    "\n",
    "al,am,ad,an1,an2 = build_stuff(nsam,0)\n",
    "bl,bm,bd,bn1,bn2 = build_stuff(nsam,0,unbias_grad = True,tag = \"MINE2\")\n",
    "\n",
    "alldat = np.random.normal(0,1,[nsam,ndim])\n",
    "n1 = np.random.normal(0,.1,[nsam,ndim])\n",
    "n2 = np.random.normal(0,.1,[nsam,ndim])\n"
   ]
  },
  {
   "cell_type": "code",
   "execution_count": 4,
   "metadata": {},
   "outputs": [],
   "source": [
    "adam = tf.train.AdamOptimizer(learning_rate = .001)\n",
    "atrain = adam.minimize(al)\n",
    "btrain = adam.minimize(bl)\n",
    "\n",
    "with tf.variable_scope(\"\",reuse = True):\n",
    "    UG1 = tf.get_variable(name = \"unbias_MINE_grad_track\",dtype = tf.bool)\n",
    "    UG2 = tf.get_variable(name = \"unbias_MINE_grad\",dtype = tf.float32)\n",
    "\n",
    "init = tf.global_variables_initializer()"
   ]
  },
  {
   "cell_type": "code",
   "execution_count": 6,
   "metadata": {},
   "outputs": [
    {
     "name": "stdout",
     "output_type": "stream",
     "text": [
      "[False, 1.0]\n",
      "[False, 1.0]\n",
      "[False, 1.0]\n",
      "[False, 1.0]\n",
      "[False, 1.0]\n",
      "[False, 1.0]\n"
     ]
    }
   ],
   "source": [
    "sess = tf.Session()\n",
    "sess.run(init)\n",
    "\n",
    "print(sess.run([UG1,UG2]))\n",
    "\n",
    "sess = tf.Session()\n",
    "sess.run(init)\n",
    "\n",
    "for k in range(5):\n",
    "    sess.run([atrain,btrain],{ad:alldat,bd:alldat,an1:n1,bn1:n1,an2:n2,bn2:n2})\n",
    "    print(sess.run([UG1,UG2]))\n",
    "    \n",
    "sess.close()"
   ]
  },
  {
   "cell_type": "code",
   "execution_count": 6,
   "metadata": {},
   "outputs": [],
   "source": [
    "sess.close()"
   ]
  },
  {
   "cell_type": "code",
   "execution_count": 8,
   "metadata": {},
   "outputs": [
    {
     "name": "stdout",
     "output_type": "stream",
     "text": [
      "3.46847921963\n"
     ]
    }
   ],
   "source": [
    "nn = 2\n",
    "\n",
    "cov = np.eye(nn)*(1+.1)\n",
    "ccon = np.eye(nn)*(.1)\n",
    "\n",
    "MI = (np.log(np.linalg.det(cov)) + np.log(np.linalg.det(ccon)))/2 + nn*(1. + np.log(2*np.pi))\n",
    "\n",
    "print(MI)"
   ]
  },
  {
   "cell_type": "code",
   "execution_count": 12,
   "metadata": {},
   "outputs": [
    {
     "data": {
      "text/plain": [
       "'4950 2.3221726417541504'"
      ]
     },
     "metadata": {},
     "output_type": "display_data"
    },
    {
     "name": "stdout",
     "output_type": "stream",
     "text": [
      "2.3408\n",
      "0.302778\n"
     ]
    },
    {
     "data": {
      "image/png": "[encoded data removed]",
      "text/plain": [
       "<matplotlib.figure.Figure at 0x7f26057f7a58>"
      ]
     },
     "metadata": {},
     "output_type": "display_data"
    }
   ],
   "source": [
    "tf.reset_default_graph()\n",
    "nsam = 100\n",
    "ndim = 2\n",
    "ntot = 100\n",
    "loss,mine,dat,nn1,nn2 = build_stuff(nsam,.05,ndim,10)\n",
    "\n",
    "alldat = np.random.normal(0,1,[ntot,ndim])\n",
    "n1 = np.random.normal(0,.1,[ntot,ndim])\n",
    "n2 = np.random.normal(0,.1,[ntot,ndim])\n",
    "\n",
    "adam = tf.train.AdamOptimizer(learning_rate = .001)\n",
    "train = adam.minimize(loss)\n",
    "    \n",
    "init = tf.global_variables_initializer()\n",
    "sess = tf.Session()\n",
    "sess.run(init)\n",
    "        \n",
    "sess = tf.Session()\n",
    "sess.run(init)\n",
    "out = []\n",
    "for step in range(5000):\n",
    "    ii = np.random.choice(range(len(alldat)),nsam)\n",
    "    samp = alldat[ii]\n",
    "    no1 = n1[ii]\n",
    "    no2 = n2[ii]\n",
    "    \n",
    "    loss_out,MINEout = sess.run([train,mine],{dat:samp,nn1:no1,nn2:no2})\n",
    "    if step % 50==0:\n",
    "        clear_output()\n",
    "        display(\"{} {}\".format(step,MINEout))\n",
    "        \n",
    "    out.append(MINEout)\n",
    "    \n",
    "print(np.mean(out[-1000:]))\n",
    "print(np.std(out[-1000:]))\n",
    "\n",
    "plt.plot(range(len(out)),out)\n",
    "plt.show()"
   ]
  },
  {
   "cell_type": "code",
   "execution_count": 5,
   "metadata": {},
   "outputs": [
    {
     "data": {
      "text/plain": [
       "0.883406"
      ]
     },
     "execution_count": 5,
     "metadata": {},
     "output_type": "execute_result"
    }
   ],
   "source": [
    "3.92158\n",
    "0.883406"
   ]
  }
 ],
 "metadata": {
  "kernelspec": {
   "display_name": "Python 3",
   "language": "python",
   "name": "python3"
  },
  "language_info": {
   "codemirror_mode": {
    "name": "ipython",
    "version": 3
   },
   "file_extension": ".py",
   "mimetype": "text/x-python",
   "name": "python",
   "nbconvert_exporter": "python",
   "pygments_lexer": "ipython3",
   "version": "3.5.4"
  }
 },
 "nbformat": 4,
 "nbformat_minor": 2
}
