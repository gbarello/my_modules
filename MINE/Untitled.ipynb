{
 "cells": [
  {
   "cell_type": "code",
   "execution_count": 1,
   "metadata": {},
   "outputs": [],
   "source": [
    "import MINE.MINE_net as MINE\n",
    "import tensorflow as tf\n",
    "import numpy as np\n",
    "from matplotlib import pyplot as plt\n",
    "\n",
    "from IPython.display import display, clear_output"
   ]
  },
  {
   "cell_type": "markdown",
   "metadata": {},
   "source": [
    "I want to make a network and train it to convergence for a range of data samples and regularizations."
   ]
  },
  {
   "cell_type": "code",
   "execution_count": 2,
   "metadata": {},
   "outputs": [],
   "source": [
    "def build_stuff(nshape,gradreg,nn = 5,timescale=10,unbias_grad = False,reuse = False,tag = \"MINE\"):\n",
    "    \n",
    "    dat = tf.placeholder(tf.float32,shape = [nshape,nn])\n",
    "    n1 = tf.placeholder(tf.float32,shape = [nshape,nn])\n",
    "    n2 = tf.placeholder(tf.float32,shape = [nshape,nn])\n",
    "\n",
    "    dat1 = dat + n1\n",
    "    dat2 = dat + n2\n",
    "    \n",
    "    mine = MINE.get_MINE(dat1,dat2,grad_timescale = timescale,unbias_grad = unbias_grad,reuse = reuse,tag = tag)\n",
    "\n",
    "    mi,inp = MINE.get_MINE_grad_vars(dat1,dat2,reuse = True,tag = tag)\n",
    "    grads = tf.gradients(mi,inp)\n",
    "    minegradreg = tf.reduce_sum([tf.reduce_mean(g**2,axis = 0) for g in grads])\n",
    "\n",
    "    loss = -mine + gradreg * minegradreg\n",
    "    \n",
    "    return loss, mine,dat,n1,n2\n",
    "    \n",
    "    "
   ]
  },
  {
   "cell_type": "code",
   "execution_count": 3,
   "metadata": {},
   "outputs": [
    {
     "name": "stdout",
     "output_type": "stream",
     "text": [
      "17.3423960981\n"
     ]
    }
   ],
   "source": [
    "nn = 10\n",
    "\n",
    "cov = np.eye(nn)*(1+.1)\n",
    "ccon = np.eye(nn)*(.1)\n",
    "\n",
    "MI = (np.log(np.linalg.det(cov)) + np.log(np.linalg.det(ccon)))/2 + nn*(1. + np.log(2*np.pi))\n",
    "\n",
    "print(MI)"
   ]
  },
  {
   "cell_type": "code",
   "execution_count": 4,
   "metadata": {},
   "outputs": [],
   "source": [
    "OUT = []"
   ]
  },
  {
   "cell_type": "code",
   "execution_count": null,
   "metadata": {},
   "outputs": [
    {
     "data": {
      "text/plain": [
       "'9950 2.951181173324585'"
      ]
     },
     "metadata": {},
     "output_type": "display_data"
    },
    {
     "name": "stdout",
     "output_type": "stream",
     "text": [
      "3.32013\n",
      "0.457471\n"
     ]
    }
   ],
   "source": [
    "\n",
    "for gtime in [.1,1,10,100,1000]:\n",
    "    tf.reset_default_graph()\n",
    "    nsam = 100\n",
    "    ndim = 2\n",
    "    ntot = 1000\n",
    "    grad_reg = 0.01\n",
    "\n",
    "    tag = \"{}_{}_{}_{}\".format(grad_reg,gtime,ntot,ndim)\n",
    "    loss,mine,dat,nn1,nn2 = build_stuff(nsam,grad_reg,ndim,gtime,tag = tag,reuse = False,unbias_grad = True)\n",
    "\n",
    "    alldat = np.random.normal(0,1,[ntot,ndim])\n",
    "    n1 = np.random.normal(0,.1,[ntot,ndim])\n",
    "    n2 = np.random.normal(0,.1,[ntot,ndim])\n",
    "\n",
    "    adam = tf.train.AdamOptimizer(learning_rate = .001)\n",
    "    train = adam.minimize(loss)\n",
    "\n",
    "    init = tf.global_variables_initializer()\n",
    "    sess = tf.Session()\n",
    "    sess.run(init)\n",
    "\n",
    "    sess = tf.Session()\n",
    "    sess.run(init)\n",
    "    out = []\n",
    "    for step in range(10000):\n",
    "        ii = np.random.choice(range(len(alldat)),nsam)\n",
    "        samp = alldat[ii]\n",
    "        no1 = n1[ii]\n",
    "        no2 = n2[ii]\n",
    "\n",
    "        loss_out,MINEout = sess.run([train,mine],{dat:samp,nn1:no1,nn2:no2})\n",
    "        if step % 50==0:\n",
    "            clear_output()\n",
    "            display(\"{} {}\".format(step,MINEout))\n",
    "\n",
    "        out.append(MINEout)\n",
    "\n",
    "    OUT.append([nsam,ndim,ntot,gtime,grad_reg,out])\n",
    "\n",
    "    print(np.mean(out[-1000:]))\n",
    "    print(np.std(out[-1000:]))\n",
    "\n",
    "    plt.plot(range(len(out)),out)\n",
    "    plt.show()"
   ]
  },
  {
   "cell_type": "code",
   "execution_count": null,
   "metadata": {},
   "outputs": [],
   "source": [
    "3.92158\n",
    "0.883406\n",
    "\n",
    "def esmooth(x,T = 30):\n",
    "    t = np.exp(-1./T)\n",
    "    out = [x[0]]\n",
    "    for k in x[1:]:\n",
    "        out.append(out[-1]*t + (1.-t)*k)\n",
    "    return np.array(out)"
   ]
  },
  {
   "cell_type": "code",
   "execution_count": null,
   "metadata": {},
   "outputs": [],
   "source": [
    "plt.clf()\n",
    "jj = 0\n",
    "for o in OUT:\n",
    "    \n",
    "    plt.plot(range(len(o[-1])),esmooth(o[-1],T = 1),label = (np.mean(o[-1][-1000:]),np.std(o[-1][-1000:])))\n",
    "    jj += 1\n",
    "    \n",
    "plt.legend()\n",
    "plt.show()"
   ]
  },
  {
   "cell_type": "code",
   "execution_count": null,
   "metadata": {},
   "outputs": [],
   "source": []
  }
 ],
 "metadata": {
  "kernelspec": {
   "display_name": "Python 3",
   "language": "python",
   "name": "python3"
  },
  "language_info": {
   "codemirror_mode": {
    "name": "ipython",
    "version": 3
   },
   "file_extension": ".py",
   "mimetype": "text/x-python",
   "name": "python",
   "nbconvert_exporter": "python",
   "pygments_lexer": "ipython3",
   "version": "3.5.4"
  }
 },
 "nbformat": 4,
 "nbformat_minor": 2
}
